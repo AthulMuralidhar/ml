{
 "cells": [
  {
   "cell_type": "code",
   "execution_count": 7,
   "metadata": {},
   "outputs": [
    {
     "name": "stdout",
     "output_type": "stream",
     "text": [
      "myrange(2,30,3): [0, 1, 2, 3, 4, 5, 6, 7, 8, 9, 10, 11, 12, 13, 14, 15, 16, 17, 18, 19, 20, 21, 22, 23, 24, 25, 26, 27, 28, 29]\n"
     ]
    }
   ],
   "source": [
    "def myrange(stop,start=0, step=1):\n",
    "    \"\"\"enumerates the values from start in steps of size step that are\n",
    "    less than stop.\n",
    "    \"\"\"\n",
    "    assert step>0, \"only positive steps implemented in myrange\"\n",
    "    i = start\n",
    "    while i<stop:\n",
    "        yield i\n",
    "        i += step\n",
    "\n",
    "print(\"myrange(2,30,3):\",list(myrange(30)))"
   ]
  },
  {
   "cell_type": "code",
   "execution_count": 15,
   "metadata": {},
   "outputs": [
    {
     "name": "stdout",
     "output_type": "stream",
     "text": [
      "[(0, range(0, 10))]\n"
     ]
    }
   ],
   "source": [
    "def myenumerate(enum):\n",
    "    for i in range(len(enum)):\n",
    "        yield i,enum[i]\n",
    "\n",
    "a = [range(10)]\n",
    "print([i for i in myenumerate(a)])"
   ]
  },
  {
   "cell_type": "code",
   "execution_count": 25,
   "metadata": {},
   "outputs": [
    {
     "data": {
      "text/plain": [
       "3"
      ]
     },
     "execution_count": 25,
     "metadata": {},
     "output_type": "execute_result"
    }
   ],
   "source": [
    "import random\n",
    "\n",
    "def argmax(gen):\n",
    "    \"\"\"gen is a generator of (element,value) pairs, where value is a real.\n",
    "    argmax returns an element with maximal value.\n",
    "    If there are multiple elements with the max value, one is returned at random.\n",
    "    \"\"\"\n",
    "    maxv = float('-Infinity')\n",
    "    # negative infinity\n",
    "    maxvals = []\n",
    "    # list of maximal elements\n",
    "    for (e,v) in gen:\n",
    "        if v>maxv:\n",
    "            maxvals,maxv = [e], v\n",
    "        elif v==maxv:\n",
    "            maxvals.append(e)\n",
    "    return random.choice(maxvals)\n",
    "\n",
    "# Try:\n",
    "argmax(enumerate([1,6,3,77,3,55,23,77]))"
   ]
  },
  {
   "cell_type": "code",
   "execution_count": null,
   "metadata": {},
   "outputs": [],
   "source": []
  }
 ],
 "metadata": {
  "kernelspec": {
   "display_name": "Python 3",
   "language": "python",
   "name": "python3"
  },
  "language_info": {
   "codemirror_mode": {
    "name": "ipython",
    "version": 3
   },
   "file_extension": ".py",
   "mimetype": "text/x-python",
   "name": "python",
   "nbconvert_exporter": "python",
   "pygments_lexer": "ipython3",
   "version": "3.7.0"
  }
 },
 "nbformat": 4,
 "nbformat_minor": 2
}
