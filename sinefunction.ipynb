{
 "cells": [
  {
   "cell_type": "code",
   "execution_count": 1,
   "metadata": {},
   "outputs": [
    {
     "data": {
      "text/plain": [
       "'\\nmake a NN that can predict the next frame for a sine function\\n'"
      ]
     },
     "execution_count": 1,
     "metadata": {},
     "output_type": "execute_result"
    }
   ],
   "source": [
    "\"\"\"\n",
    "make a NN that can predict the next frame for a sine function\n",
    "source:https://pytorch.org/tutorials/beginner/pytorch_with_examples.html\n",
    "\n",
    "model-1:  fully connected nn with 1 hidden layer, batches = 10, D_in = 50, H = 200, D_out = 50\n",
    "model-2: ConvNet with fully connected network\n",
    "\"\"\""
   ]
  },
  {
   "cell_type": "code",
   "execution_count": 35,
   "metadata": {},
   "outputs": [],
   "source": [
    "import numpy as np\n",
    "import matplotlib.pyplot as plt\n",
    "import torch"
   ]
  },
  {
   "cell_type": "code",
   "execution_count": 59,
   "metadata": {
    "scrolled": true
   },
   "outputs": [
    {
     "data": {
      "text/plain": [
       "[<matplotlib.lines.Line2D at 0x7f9fac70ff28>]"
      ]
     },
     "execution_count": 59,
     "metadata": {},
     "output_type": "execute_result"
    },
    {
     "data": {
      "image/png": "[encoded data removed]",
      "text/plain": [
       "<Figure size 432x288 with 1 Axes>"
      ]
     },
     "metadata": {
      "needs_background": "light"
     },
     "output_type": "display_data"
    }
   ],
   "source": [
    "data = []\n",
    "for t in range(1000):\n",
    "    a = np.sin(np.linspace(0,10))\n",
    "#     plt.plot([i for i in range(len(a))],a,label=f'at time={t}')\n",
    "    data.append(a)\n",
    "#     print(a)\n",
    "\n",
    "data = np.array(data) #(1000,50)\n",
    "# print(data.shape)  \n",
    "# plt.legend(loc='upper right')\n",
    "# plt.show()\n",
    "\n",
    "x = torch.Tensor(data,device='cuda')\n",
    "b = np.sin(np.linspace(0,10))\n",
    "y = torch.Tensor(b,device='cuda')\n",
    "\n",
    "# print(x)\n",
    "# print()\n",
    "# print(y)\n",
    "# print()\n",
    "\n",
    "model = torch.nn.Sequential(\n",
    "    torch.nn.Linear(50,200),\n",
    "    torch.nn.ReLU(),\n",
    "    torch.nn.Linear(200, 50),\n",
    ")\n",
    "\n",
    "# print(model)\n",
    "\n",
    "loss_fn = torch.nn.MSELoss(reduction='sum')\n",
    "learning_rate = 1e-4\n",
    "\n",
    "loss_list = []\n",
    "\n",
    "for t in range(1000):\n",
    "    y_pred = model(x[t])\n",
    "    loss = loss_fn(y_pred, y)\n",
    "    loss_list.append(loss.item())\n",
    "#     print(t, loss.item())\n",
    "\n",
    "    # Zero the gradients before running the backward pass.\n",
    "    model.zero_grad()\n",
    "    loss.backward()\n",
    "\n",
    "    # Update the weights using gradient descent. Each parameter is a Tensor, so\n",
    "    # we can access its gradients like we did before.\n",
    "    with torch.no_grad():\n",
    "        for param in model.parameters():\n",
    "            param -= learning_rate * param.grad\n",
    "\n",
    "            \n",
    "            \n",
    "plt.plot([i for i in range(len(loss_list))],loss_list)\n",
    "\n"
   ]
  },
  {
   "cell_type": "code",
   "execution_count": 64,
   "metadata": {},
   "outputs": [
    {
     "name": "stdout",
     "output_type": "stream",
     "text": [
      "ConvNet(\n",
      "  (layer1): Sequential(\n",
      "    (0): Conv1d(50, 25, kernel_size=(5,), stride=(1,), padding=(2,))\n",
      "    (1): ReLU()\n",
      "  )\n",
      "  (layer2): Sequential(\n",
      "    (0): Conv1d(25, 30, kernel_size=(5,), stride=(1,), padding=(2,))\n",
      "    (1): ReLU()\n",
      "  )\n",
      "  (drop_out): Dropout(p=0.5)\n",
      "  (fc1): Linear(in_features=1470, out_features=1000, bias=True)\n",
      "  (fc2): Linear(in_features=1000, out_features=50, bias=True)\n",
      ")\n"
     ]
    }
   ],
   "source": [
    "import torch.nn as nn\n",
    "# Convolutional neural network (two convolutional layers)\n",
    "class ConvNet(nn.Module):\n",
    "    def __init__(self):\n",
    "        super(ConvNet, self).__init__()\n",
    "        self.layer1 = nn.Sequential(\n",
    "            nn.Conv1d(50, 25, kernel_size=5, stride=1, padding=2),\n",
    "            nn.ReLU())\n",
    "        self.layer2 = nn.Sequential(\n",
    "            nn.Conv1d(25, 30, kernel_size=5, stride=1, padding=2),\n",
    "            nn.ReLU())\n",
    "        self.drop_out = nn.Dropout()\n",
    "        self.fc1 = nn.Linear(7 * 7 * 30, 1000)\n",
    "        self.fc2 = nn.Linear(1000, 50)\n",
    "\n",
    "    def forward(self, x):\n",
    "        out = self.layer1(x)\n",
    "        out = self.layer2(out)\n",
    "        out = self.drop_out(out)\n",
    "        out = self.fc1(out)\n",
    "        out = self.fc2(out)\n",
    "        return out\n",
    "\n",
    "\n",
    "model2 = ConvNet()\n",
    "print(model2)\n",
    "\n",
    "\n",
    "criterion = nn.CrossEntropyLoss()\n",
    "optimizer = torch.optim.Adam(model.parameters(), lr=1e-4)"
   ]
  },
  {
   "cell_type": "code",
   "execution_count": null,
   "metadata": {},
   "outputs": [],
   "source": []
  }
 ],
 "metadata": {
  "kernelspec": {
   "display_name": "Python 3",
   "language": "python",
   "name": "python3"
  },
  "language_info": {
   "codemirror_mode": {
    "name": "ipython",
    "version": 3
   },
   "file_extension": ".py",
   "mimetype": "text/x-python",
   "name": "python",
   "nbconvert_exporter": "python",
   "pygments_lexer": "ipython3",
   "version": "3.7.0"
  }
 },
 "nbformat": 4,
 "nbformat_minor": 2
}
