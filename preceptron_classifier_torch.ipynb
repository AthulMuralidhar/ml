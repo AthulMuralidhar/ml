{
 "cells": [
  {
   "cell_type": "markdown",
   "metadata": {},
   "source": [
    "# The preceptron classifier implimentation in Pytorch:\n",
    "\n",
    "A simple graph for illustration purposes:\n",
    "![title](./preceptron.png)\n"
   ]
  },
  {
   "cell_type": "code",
   "execution_count": 5,
   "metadata": {},
   "outputs": [],
   "source": [
    "import torch"
   ]
  },
  {
   "cell_type": "code",
   "execution_count": null,
   "metadata": {},
   "outputs": [],
   "source": [
    "#defining the above NN\n",
    "network = torch.nn.Sequential(\n",
    "    torch.nn.Linear(2,2),\n",
    "    torch.nn.Sigmoid(),\n",
    "    torch.nn.Linear(2,1)\n",
    ")\n",
    "# print(network)\n",
    "inp_t = torch.Tensor([1,1])\n",
    "loss_fn = torch.nn.MSELoss(reduction='sum')\n",
    "desired_out = torch.Tensor([1])\n",
    "learning_rate = 0.2\n",
    "\n",
    "for _ in range(100):\n",
    "    pred = network(inp_t)\n",
    "    loss = loss_fn(pred,desired_out)\n",
    "    print(loss)\n",
    "    network.zero_grad()\n",
    "    loss.backward()\n",
    "    \n",
    "    with torch.no_grad():\n",
    "        for param in network.parameters():\n",
    "            param -= learning_rate * param.grad"
   ]
  },
  {
   "cell_type": "code",
   "execution_count": null,
   "metadata": {},
   "outputs": [],
   "source": []
  }
 ],
 "metadata": {
  "kernelspec": {
   "display_name": "Python 3",
   "language": "python",
   "name": "python3"
  },
  "language_info": {
   "codemirror_mode": {
    "name": "ipython",
    "version": 3
   },
   "file_extension": ".py",
   "mimetype": "text/x-python",
   "name": "python",
   "nbconvert_exporter": "python",
   "pygments_lexer": "ipython3",
   "version": "3.7.2"
  }
 },
 "nbformat": 4,
 "nbformat_minor": 2
}
